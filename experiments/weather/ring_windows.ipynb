{
 "cells": [
  {
   "cell_type": "code",
   "execution_count": 3,
   "id": "7384006f-a3fc-4501-820d-b3852f4e3239",
   "metadata": {},
   "outputs": [
    {
     "name": "stdout",
     "output_type": "stream",
     "text": [
      "[db] Connection to alvis2:5431\n"
     ]
    }
   ],
   "source": [
    "#!/usr/bin/env python\n",
    "import torch\n",
    "\n",
    "from lib.train_dataclasses import TrainConfig\n",
    "from lib.train_dataclasses import TrainRun\n",
    "from lib.train_dataclasses import OptimizerConfig\n",
    "from lib.train_dataclasses import ComputeConfig\n",
    "\n",
    "from lib.classification_metrics import create_classification_metrics\n",
    "from lib.data_registry import DataSpiralsConfig\n",
    "from lib.datasets.spiral_visualization import visualize_spiral\n",
    "from lib.models.mlp import MLPClassConfig\n",
    "from lib.generic_ablation import generic_ablation\n",
    "\n",
    "from lib.distributed_trainer import distributed_train\n",
    "from lib.ddp import ddp_setup\n",
    "from lib.files import prepare_results\n",
    "from lib.render_psql import setup_psql, add_artifact, add_train_run\n",
    "\n",
    "\n",
    "def create_config(mlp_dim, ensemble_id):\n",
    "    loss = torch.nn.CrossEntropyLoss()\n",
    "\n",
    "    def ce_loss(output, batch):\n",
    "        return loss(output[\"logits\"], batch[\"target\"])\n",
    "\n",
    "    train_config = TrainConfig(\n",
    "        model_config=MLPClassConfig(widths=[mlp_dim, mlp_dim]),\n",
    "        train_data_config=DataSpiralsConfig(seed=0, N=1000),\n",
    "        val_data_config=DataSpiralsConfig(seed=1, N=500),\n",
    "        loss=ce_loss,\n",
    "        optimizer=OptimizerConfig(\n",
    "            optimizer=torch.optim.Adam, kwargs=dict(weight_decay=0.0001)\n",
    "        ),\n",
    "        batch_size=500,\n",
    "        ensemble_id=ensemble_id,\n",
    "    )\n",
    "    train_eval = create_classification_metrics(visualize_spiral, 2)\n",
    "    train_run = TrainRun(\n",
    "        compute_config=ComputeConfig(distributed=False, num_workers=1),\n",
    "        train_config=train_config,\n",
    "        train_eval=train_eval,\n",
    "        epochs=1,\n",
    "        save_nth_epoch=20,\n",
    "        validate_nth_epoch=20,\n",
    "        notes=dict(purpose=\"ring window\")\n",
    "    )\n",
    "    return train_run\n",
    "\n",
    "\n",
    "config = create_config(100, 0)\n",
    "add_train_run(config)\n",
    "result_path = prepare_results(\"ring_windows\", config)\n",
    "setup_psql()\n",
    "    #add_artifact(configs[0], \"plot.png\", path / \"plot.png\")\n"
   ]
  },
  {
   "cell_type": "code",
   "execution_count": 256,
   "id": "05d3ed22-3bb8-41bf-999e-855dccbbd975",
   "metadata": {},
   "outputs": [
    {
     "data": {
      "text/plain": [
       "192"
      ]
     },
     "execution_count": 256,
     "metadata": {},
     "output_type": "execute_result"
    }
   ],
   "source": [
    "import healpix\n",
    "import chealpix as chp\n",
    "import numpy as np\n",
    "\n",
    "NSIDE = 4\n",
    "n_pixels = healpix.nside2npix(NSIDE)\n",
    "n_pixels"
   ]
  },
  {
   "cell_type": "code",
   "execution_count": 257,
   "id": "284732c2-f52d-4925-958a-d3b45bab6edb",
   "metadata": {},
   "outputs": [],
   "source": [
    "hp = np.zeros((n_pixels,), dtype=np.float32)"
   ]
  },
  {
   "cell_type": "code",
   "execution_count": 258,
   "id": "7a6a3f80-e281-4a00-b0c7-bad6f7bdf3b7",
   "metadata": {},
   "outputs": [],
   "source": [
    "polar_idx = list(range(0, NSIDE))\n",
    "current_idx = 0\n",
    "north_idxs = []\n",
    "north_eq_idxs = []\n",
    "south_eq_idxs = []\n",
    "south_idxs = []\n",
    "for window_idx in polar_idx:\n",
    "    north_idxs.append([ current_idx + i for i in range(4 * (window_idx + 1))])\n",
    "    current_idx += 4 * (window_idx + 1)\n",
    "\n",
    "for window_idx in range(NSIDE):\n",
    "    north_eq_idxs.append([current_idx + i for i in range(4*NSIDE)])\n",
    "    current_idx += 4*NSIDE\n",
    "\n",
    "for window_idx in range(NSIDE - 1):\n",
    "    south_eq_idxs.append([current_idx + i for i in range(4*NSIDE)])\n",
    "    current_idx += 4*NSIDE\n",
    "\n",
    "# nside 2, 0 -> 0\n",
    "\n",
    "# nside 3, 0 -> 1\n",
    "# nside 3, 1 -> 0\n",
    "for window in reversed(north_idxs):\n",
    "    south_idxs.append([n_pixels - 1 - idx for idx in window])\n",
    "#for window_idx in polar_idx:\n",
    "#    south_idxs.append([ current_idx + i for i in range(4 * ((NSIDE - 1 - window_idx) + 1))])\n",
    "#    current_idx += 4 * ((NSIDE - 1 - window_idx) + 1)"
   ]
  },
  {
   "cell_type": "code",
   "execution_count": 259,
   "id": "cc9343e8-c1d3-4071-96e1-0573e9ae202e",
   "metadata": {},
   "outputs": [
    {
     "data": {
      "text/plain": [
       "[[0, 1, 2, 3],\n",
       " [4, 5, 6, 7, 8, 9, 10, 11],\n",
       " [12, 13, 14, 15, 16, 17, 18, 19, 20, 21, 22, 23],\n",
       " [24, 25, 26, 27, 28, 29, 30, 31, 32, 33, 34, 35, 36, 37, 38, 39]]"
      ]
     },
     "execution_count": 259,
     "metadata": {},
     "output_type": "execute_result"
    }
   ],
   "source": [
    "north_idxs"
   ]
  },
  {
   "cell_type": "code",
   "execution_count": 261,
   "id": "6acdc006-7178-464a-90ca-f551a2db1b13",
   "metadata": {},
   "outputs": [
    {
     "data": {
      "text/plain": [
       "7"
      ]
     },
     "execution_count": 261,
     "metadata": {},
     "output_type": "execute_result"
    }
   ],
   "source": [
    "len(north_eq_idxs + south_eq_idxs)"
   ]
  },
  {
   "cell_type": "code",
   "execution_count": 246,
   "id": "1bb79ee2-3213-4103-984e-ee4eae0cf2eb",
   "metadata": {},
   "outputs": [
    {
     "data": {
      "text/plain": [
       "[[11, 10, 9, 8]]"
      ]
     },
     "execution_count": 246,
     "metadata": {},
     "output_type": "execute_result"
    }
   ],
   "source": [
    "south_idxs"
   ]
  },
  {
   "cell_type": "code",
   "execution_count": 247,
   "id": "e179ea45-b0c9-498f-a5e9-012614cce159",
   "metadata": {},
   "outputs": [],
   "source": [
    "all_windows = north_idxs + north_eq_idxs + south_eq_idxs + south_idxs\n",
    "colors = np.arange(len(all_windows))\n",
    "np.random.shuffle(colors)\n",
    "for idx, window in enumerate(all_windows):\n",
    "    n_pixels_in_window = len(window)\n",
    "    n_sub_windows = n_pixels_in_window // 16 + 1\n",
    "    nest_idxs = chp.ring2nest(NSIDE, window)\n",
    "    for sub_idx in range(n_sub_windows):\n",
    "        sub_idxs = nest_idxs[sub_idx::n_sub_windows]\n",
    "        hp[sub_idxs] =  float(colors[(sub_idx + idx) % len(all_windows)])#float(2*idx % len(all_windows)) + 1"
   ]
  },
  {
   "cell_type": "code",
   "execution_count": 248,
   "id": "b3302adb-1ec1-4eb0-a378-aca00380c7a3",
   "metadata": {},
   "outputs": [
    {
     "data": {
      "text/plain": [
       "array([2., 2., 2., 2., 1., 1., 1., 1., 0., 0., 0., 0.], dtype=float32)"
      ]
     },
     "execution_count": 248,
     "metadata": {},
     "output_type": "execute_result"
    }
   ],
   "source": [
    "hp"
   ]
  },
  {
   "cell_type": "code",
   "execution_count": 249,
   "id": "dfb269bd-e454-418d-a466-f6c22e0d5f2c",
   "metadata": {},
   "outputs": [],
   "source": [
    "def save_and_register(name, array):\n",
    "    path = result_path / f\"{name}.npy\"\n",
    "\n",
    "    np.save(\n",
    "        path,\n",
    "        array[None, :],\n",
    "    )\n",
    "    add_artifact(config, name, path)\n"
   ]
  },
  {
   "cell_type": "code",
   "execution_count": 250,
   "id": "222413ac-d4d1-46a0-851e-6796f22eee15",
   "metadata": {},
   "outputs": [
    {
     "name": "stdout",
     "output_type": "stream",
     "text": [
      "[db] Connection to alvis2:5431\n",
      "[db] Uploading artifact\n",
      "[db] Chunk 1\n",
      "[Database] Added artifact window_nside_1.npy: /mimer/NOBACKUP/groups/naiss2023-6-319/eqp/artifacts/results/ring_windows_git_ea96398_config_53db940/window_nside_1.npy.npy\n"
     ]
    }
   ],
   "source": [
    "save_and_register(f\"window_nside_{NSIDE}.npy\", hp)"
   ]
  },
  {
   "cell_type": "code",
   "execution_count": null,
   "id": "f2e18f5b-393c-4fe2-a036-d5853b0d2951",
   "metadata": {},
   "outputs": [],
   "source": []
  },
  {
   "cell_type": "code",
   "execution_count": 188,
   "id": "9c0a1257-ae87-485f-a804-db79ce5dcbf3",
   "metadata": {},
   "outputs": [
    {
     "data": {
      "text/plain": [
       "16.0"
      ]
     },
     "execution_count": 188,
     "metadata": {},
     "output_type": "execute_result"
    }
   ],
   "source": [
    "all_windows = north_idxs + north_eq_idxs + south_eq_idxs + south_idxs\n",
    "4 * 256 / 64"
   ]
  },
  {
   "cell_type": "code",
   "execution_count": 189,
   "id": "a926c83e-2531-48d4-b163-d4775e486c99",
   "metadata": {},
   "outputs": [
    {
     "data": {
      "text/plain": [
       "192"
      ]
     },
     "execution_count": 189,
     "metadata": {},
     "output_type": "execute_result"
    }
   ],
   "source": [
    "sum([4, 8, 12, 16, 16, 16, 16, 16, 16, 16, 16, 16, 12, 8, 4])"
   ]
  },
  {
   "cell_type": "code",
   "execution_count": null,
   "id": "0626ad70-a829-4816-a044-ad44a8425609",
   "metadata": {},
   "outputs": [],
   "source": []
  }
 ],
 "metadata": {
  "kernelspec": {
   "display_name": "Python 3 (ipykernel)",
   "language": "python",
   "name": "python3"
  },
  "language_info": {
   "codemirror_mode": {
    "name": "ipython",
    "version": 3
   },
   "file_extension": ".py",
   "mimetype": "text/x-python",
   "name": "python",
   "nbconvert_exporter": "python",
   "pygments_lexer": "ipython3",
   "version": "3.11.6"
  }
 },
 "nbformat": 4,
 "nbformat_minor": 5
}
