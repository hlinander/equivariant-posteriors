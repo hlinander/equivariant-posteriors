{
 "cells": [
  {
   "cell_type": "code",
   "execution_count": 1,
   "id": "6163d550-68b5-44a0-882a-c68386d6eebe",
   "metadata": {},
   "outputs": [
    {
     "name": "stderr",
     "output_type": "stream",
     "text": [
      "\u001b[32m\u001b[1m    Updating\u001b[22m\u001b[39m registry at `~/.julia/registries/General.toml`\n",
      "\u001b[32m\u001b[1m   Resolving\u001b[22m\u001b[39m package versions...\n",
      "\u001b[32m\u001b[1m  No Changes\u001b[22m\u001b[39m to `~/.julia/environments/v1.9/Project.toml`\n",
      "\u001b[32m\u001b[1m  No Changes\u001b[22m\u001b[39m to `~/.julia/environments/v1.9/Manifest.toml`\n",
      "\u001b[32m\u001b[1m   Resolving\u001b[22m\u001b[39m package versions...\n",
      "\u001b[32m\u001b[1m  No Changes\u001b[22m\u001b[39m to `~/.julia/environments/v1.9/Project.toml`\n",
      "\u001b[32m\u001b[1m  No Changes\u001b[22m\u001b[39m to `~/.julia/environments/v1.9/Manifest.toml`\n",
      "\u001b[32m\u001b[1m   Resolving\u001b[22m\u001b[39m package versions...\n",
      "\u001b[32m\u001b[1m  No Changes\u001b[22m\u001b[39m to `~/.julia/environments/v1.9/Project.toml`\n",
      "\u001b[32m\u001b[1m  No Changes\u001b[22m\u001b[39m to `~/.julia/environments/v1.9/Manifest.toml`\n"
     ]
    }
   ],
   "source": [
    "using Pkg\n",
    "Pkg.add(url=\"https://github.com/Jollywatt/GeometricAlgebra.jl\", rev=\"v0.2.1\")\n",
    "Pkg.add(\"SymbolicUtils\")\n",
    "Pkg.add(\"Symbolics\")"
   ]
  },
  {
   "cell_type": "code",
   "execution_count": 9,
   "id": "78ac9b62-5646-4207-ab51-bd852e12ec38",
   "metadata": {},
   "outputs": [
    {
     "name": "stderr",
     "output_type": "stream",
     "text": [
      "\u001b[32m\u001b[1m   Resolving\u001b[22m\u001b[39m package versions...\n",
      "\u001b[32m\u001b[1m    Updating\u001b[22m\u001b[39m `~/.julia/environments/v1.9/Project.toml`\n",
      "  \u001b[90m[682c06a0] \u001b[39m\u001b[92m+ JSON v0.21.4\u001b[39m\n",
      "\u001b[32m\u001b[1m  No Changes\u001b[22m\u001b[39m to `~/.julia/environments/v1.9/Manifest.toml`\n"
     ]
    }
   ],
   "source": [
    "Pkg.add(\"JSON\")"
   ]
  },
  {
   "cell_type": "code",
   "execution_count": 10,
   "id": "fe60dd19-f984-48ba-8247-9f516848ac76",
   "metadata": {},
   "outputs": [],
   "source": [
    "using GeometricAlgebra\n",
    "using SymbolicUtils\n",
    "using NPZ\n",
    "using JSON"
   ]
  },
  {
   "cell_type": "code",
   "execution_count": 3,
   "id": "3c398132-7d0a-47f5-8fad-2f36fe8e82d8",
   "metadata": {},
   "outputs": [
    {
     "data": {
      "text/plain": [
       "1-element Vector{Int64}:\n",
       " 3"
      ]
     },
     "execution_count": 3,
     "metadata": {},
     "output_type": "execute_result"
    }
   ],
   "source": [
    "using GeometricAlgebra:\n",
    "\tbits_to_indices,\n",
    "    componentindex\n",
    "bits_to_indices(UInt64(4))"
   ]
  },
  {
   "cell_type": "code",
   "execution_count": 29,
   "id": "c5f5335c-5678-4041-88ee-9e785a470059",
   "metadata": {},
   "outputs": [
    {
     "data": {
      "text/plain": [
       "8-component Multivector{Cl\"++0\", 0:3, MVector{8, Int64}}:\n",
       " 2 \u001b[0m\u001b[1mv1\u001b[22m\n",
       " 4 \u001b[0m\u001b[1mv12\u001b[22m"
      ]
     },
     "execution_count": 29,
     "metadata": {},
     "output_type": "execute_result"
    }
   ],
   "source": [
    "x = 4 * blades[4] + 2 * blades[2]"
   ]
  },
  {
   "cell_type": "code",
   "execution_count": 39,
   "id": "50641494-ff41-4902-a4af-e722e1391ff9",
   "metadata": {},
   "outputs": [
    {
     "data": {
      "text/plain": [
       "8-component Multivector{Cl\"++0\", 0:3, MVector{8, SymbolicUtils.BasicSymbolic{Real}}}:\n",
       " (kv[1]*(kv[1]^2 + kv[2]^2 + kv[3]^2 + kv[5]^2) + (-2kv[1]*kv[2] + 2kv[3]*kv[5])*kv[2] + (-2kv[1]*kv[3] - 2kv[2]*kv[5])*kv[3]) / (((kv[1]^2 + kv[2]^2 + kv[3]^2 + kv[5]^2)*kv[2] + kv[1]*(-2kv[1]*kv[2] + 2kv[3]*kv[5]) - (2kv[1]*kv[3] + 2kv[2]*kv[5])*kv[5])*kv[2] + ((kv[1]^2 + kv[2]^2 + kv[3]^2 + kv[5]^2)*kv[3] + kv[1]*(-2kv[1]*kv[3] - 2kv[2]*kv[5]) - (-2kv[1]*kv[2] + 2kv[3]*kv[5])*kv[5])*kv[3] - (-(kv[1]^2 + kv[2]^2 + kv[3]^2 + kv[5]^2)*kv[5] + (-2kv[1]*kv[2] + 2kv[3]*kv[5])*kv[3] + (2kv[1]*kv[3] + 2kv[2]*kv[5])*kv[2])*kv[5] + kv[1]*(kv[1]*(kv[1]^2 + kv[2]^2 + kv[3]^2 + kv[5]^2) + (-2kv[1]*kv[2] + 2kv[3]*kv[5])*kv[2] + (-2kv[1]*kv[3] - 2kv[2]*kv[5])*kv[3]))\n",
       " ((kv[1]^2 + kv[2]^2 + kv[3]^2 + kv[5]^2)*kv[2] + kv[1]*(-2kv[1]*kv[2] + 2kv[3]*kv[5]) - (2kv[1]*kv[3] + 2kv[2]*kv[5])*kv[5]) / (((kv[1]^2 + kv[2]^2 + kv[3]^2 + kv[5]^2)*kv[2] + kv[1]*(-2kv[1]*kv[2] + 2kv[3]*kv[5]) - (2kv[1]*kv[3] + 2kv[2]*kv[5])*kv[5])*kv[2] + ((kv[1]^2 + kv[2]^2 + kv[3]^2 + kv[5]^2)*kv[3] + kv[1]*(-2kv[1]*kv[3] - 2kv[2]*kv[5]) - (-2kv[1]*kv[2] + 2kv[3]*kv[5])*kv[5])*kv[3] - (-(kv[1]^2 + kv[2]^2 + kv[3]^2 + kv[5]^2)*kv[5] + (-2kv[1]*kv[2] + 2kv[3]*kv[5])*kv[3] + (2kv[1]*kv[3] + 2kv[2]*kv[5])*kv[2])*kv[5] + kv[1]*(kv[1]*(kv[1]^2 + kv[2]^2 + kv[3]^2 + kv[5]^2) + (-2kv[1]*kv[2] + 2kv[3]*kv[5])*kv[2] + (-2kv[1]*kv[3] - 2kv[2]*kv[5])*kv[3])) \u001b[0m\u001b[1mv1\u001b[22m + ((kv[1]^2 + kv[2]^2 + kv[3]^2 + kv[5]^2)*kv[3] + kv[1]*(-2kv[1]*kv[3] - 2kv[2]*kv[5]) - (-2kv[1]*kv[2] + 2kv[3]*kv[5])*kv[5]) / (((kv[1]^2 + kv[2]^2 + kv[3]^2 + kv[5]^2)*kv[2] + kv[1]*(-2kv[1]*kv[2] + 2kv[3]*kv[5]) - (2kv[1]*kv[3] + 2kv[2]*kv[5])*kv[5])*kv[2] + ((kv[1]^2 + kv[2]^2 + kv[3]^2 + kv[5]^2)*kv[3] + kv[1]*(-2kv[1]*kv[3] - 2kv[2]*kv[5]) - (-2kv[1]*kv[2] + 2kv[3]*kv[5])*kv[5])*kv[3] - (-(kv[1]^2 + kv[2]^2 + kv[3]^2 + kv[5]^2)*kv[5] + (-2kv[1]*kv[2] + 2kv[3]*kv[5])*kv[3] + (2kv[1]*kv[3] + 2kv[2]*kv[5])*kv[2])*kv[5] + kv[1]*(kv[1]*(kv[1]^2 + kv[2]^2 + kv[3]^2 + kv[5]^2) + (-2kv[1]*kv[2] + 2kv[3]*kv[5])*kv[2] + (-2kv[1]*kv[3] - 2kv[2]*kv[5])*kv[3])) \u001b[0m\u001b[1mv2\u001b[22m + ((kv[1]^2 + kv[2]^2 + kv[3]^2 + kv[5]^2)*kv[4] + kv[1]*(-2kv[1]*kv[4] - 2kv[2]*kv[6] - 2kv[3]*kv[7] - 2kv[5]*kv[8]) - (-2kv[1]*kv[2] + 2kv[3]*kv[5])*kv[6] - (-2kv[1]*kv[3] - 2kv[2]*kv[5])*kv[7]) / (((kv[1]^2 + kv[2]^2 + kv[3]^2 + kv[5]^2)*kv[2] + kv[1]*(-2kv[1]*kv[2] + 2kv[3]*kv[5]) - (2kv[1]*kv[3] + 2kv[2]*kv[5])*kv[5])*kv[2] + ((kv[1]^2 + kv[2]^2 + kv[3]^2 + kv[5]^2)*kv[3] + kv[1]*(-2kv[1]*kv[3] - 2kv[2]*kv[5]) - (-2kv[1]*kv[2] + 2kv[3]*kv[5])*kv[5])*kv[3] - (-(kv[1]^2 + kv[2]^2 + kv[3]^2 + kv[5]^2)*kv[5] + (-2kv[1]*kv[2] + 2kv[3]*kv[5])*kv[3] + (2kv[1]*kv[3] + 2kv[2]*kv[5])*kv[2])*kv[5] + kv[1]*(kv[1]*(kv[1]^2 + kv[2]^2 + kv[3]^2 + kv[5]^2) + (-2kv[1]*kv[2] + 2kv[3]*kv[5])*kv[2] + (-2kv[1]*kv[3] - 2kv[2]*kv[5])*kv[3])) \u001b[0m\u001b[1mv3\u001b[22m\n",
       " (-(kv[1]^2 + kv[2]^2 + kv[3]^2 + kv[5]^2)*kv[5] + (-2kv[1]*kv[2] + 2kv[3]*kv[5])*kv[3] + (2kv[1]*kv[3] + 2kv[2]*kv[5])*kv[2]) / (((kv[1]^2 + kv[2]^2 + kv[3]^2 + kv[5]^2)*kv[2] + kv[1]*(-2kv[1]*kv[2] + 2kv[3]*kv[5]) - (2kv[1]*kv[3] + 2kv[2]*kv[5])*kv[5])*kv[2] + ((kv[1]^2 + kv[2]^2 + kv[3]^2 + kv[5]^2)*kv[3] + kv[1]*(-2kv[1]*kv[3] - 2kv[2]*kv[5]) - (-2kv[1]*kv[2] + 2kv[3]*kv[5])*kv[5])*kv[3] - (-(kv[1]^2 + kv[2]^2 + kv[3]^2 + kv[5]^2)*kv[5] + (-2kv[1]*kv[2] + 2kv[3]*kv[5])*kv[3] + (2kv[1]*kv[3] + 2kv[2]*kv[5])*kv[2])*kv[5] + kv[1]*(kv[1]*(kv[1]^2 + kv[2]^2 + kv[3]^2 + kv[5]^2) + (-2kv[1]*kv[2] + 2kv[3]*kv[5])*kv[2] + (-2kv[1]*kv[3] - 2kv[2]*kv[5])*kv[3])) \u001b[0m\u001b[1mv12\u001b[22m + (-(kv[1]^2 + kv[2]^2 + kv[3]^2 + kv[5]^2)*kv[6] + (-2kv[1]*kv[2] + 2kv[3]*kv[5])*kv[4] - (2kv[1]*kv[3] + 2kv[2]*kv[5])*kv[8] + (2kv[1]*kv[4] + 2kv[2]*kv[6] + 2kv[3]*kv[7] + 2kv[5]*kv[8])*kv[2]) / (((kv[1]^2 + kv[2]^2 + kv[3]^2 + kv[5]^2)*kv[2] + kv[1]*(-2kv[1]*kv[2] + 2kv[3]*kv[5]) - (2kv[1]*kv[3] + 2kv[2]*kv[5])*kv[5])*kv[2] + ((kv[1]^2 + kv[2]^2 + kv[3]^2 + kv[5]^2)*kv[3] + kv[1]*(-2kv[1]*kv[3] - 2kv[2]*kv[5]) - (-2kv[1]*kv[2] + 2kv[3]*kv[5])*kv[5])*kv[3] - (-(kv[1]^2 + kv[2]^2 + kv[3]^2 + kv[5]^2)*kv[5] + (-2kv[1]*kv[2] + 2kv[3]*kv[5])*kv[3] + (2kv[1]*kv[3] + 2kv[2]*kv[5])*kv[2])*kv[5] + kv[1]*(kv[1]*(kv[1]^2 + kv[2]^2 + kv[3]^2 + kv[5]^2) + (-2kv[1]*kv[2] + 2kv[3]*kv[5])*kv[2] + (-2kv[1]*kv[3] - 2kv[2]*kv[5])*kv[3])) \u001b[0m\u001b[1mv13\u001b[22m + (-(kv[1]^2 + kv[2]^2 + kv[3]^2 + kv[5]^2)*kv[7] - (-2kv[1]*kv[2] + 2kv[3]*kv[5])*kv[8] + (-2kv[1]*kv[3] - 2kv[2]*kv[5])*kv[4] + (2kv[1]*kv[4] + 2kv[2]*kv[6] + 2kv[3]*kv[7] + 2kv[5]*kv[8])*kv[3]) / (((kv[1]^2 + kv[2]^2 + kv[3]^2 + kv[5]^2)*kv[2] + kv[1]*(-2kv[1]*kv[2] + 2kv[3]*kv[5]) - (2kv[1]*kv[3] + 2kv[2]*kv[5])*kv[5])*kv[2] + ((kv[1]^2 + kv[2]^2 + kv[3]^2 + kv[5]^2)*kv[3] + kv[1]*(-2kv[1]*kv[3] - 2kv[2]*kv[5]) - (-2kv[1]*kv[2] + 2kv[3]*kv[5])*kv[5])*kv[3] - (-(kv[1]^2 + kv[2]^2 + kv[3]^2 + kv[5]^2)*kv[5] + (-2kv[1]*kv[2] + 2kv[3]*kv[5])*kv[3] + (2kv[1]*kv[3] + 2kv[2]*kv[5])*kv[2])*kv[5] + kv[1]*(kv[1]*(kv[1]^2 + kv[2]^2 + kv[3]^2 + kv[5]^2) + (-2kv[1]*kv[2] + 2kv[3]*kv[5])*kv[2] + (-2kv[1]*kv[3] - 2kv[2]*kv[5])*kv[3])) \u001b[0m\u001b[1mv23\u001b[22m\n",
       " (-(kv[1]^2 + kv[2]^2 + kv[3]^2 + kv[5]^2)*kv[8] - (-2kv[1]*kv[2] + 2kv[3]*kv[5])*kv[7] - (2kv[1]*kv[3] + 2kv[2]*kv[5])*kv[6] - (-2kv[1]*kv[4] - 2kv[2]*kv[6] - 2kv[3]*kv[7] - 2kv[5]*kv[8])*kv[5]) / (((kv[1]^2 + kv[2]^2 + kv[3]^2 + kv[5]^2)*kv[2] + kv[1]*(-2kv[1]*kv[2] + 2kv[3]*kv[5]) - (2kv[1]*kv[3] + 2kv[2]*kv[5])*kv[5])*kv[2] + ((kv[1]^2 + kv[2]^2 + kv[3]^2 + kv[5]^2)*kv[3] + kv[1]*(-2kv[1]*kv[3] - 2kv[2]*kv[5]) - (-2kv[1]*kv[2] + 2kv[3]*kv[5])*kv[5])*kv[3] - (-(kv[1]^2 + kv[2]^2 + kv[3]^2 + kv[5]^2)*kv[5] + (-2kv[1]*kv[2] + 2kv[3]*kv[5])*kv[3] + (2kv[1]*kv[3] + 2kv[2]*kv[5])*kv[2])*kv[5] + kv[1]*(kv[1]*(kv[1]^2 + kv[2]^2 + kv[3]^2 + kv[5]^2) + (-2kv[1]*kv[2] + 2kv[3]*kv[5])*kv[2] + (-2kv[1]*kv[3] - 2kv[2]*kv[5])*kv[3])) \u001b[0m\u001b[1mv123\u001b[22m"
      ]
     },
     "execution_count": 39,
     "metadata": {},
     "output_type": "execute_result"
    }
   ],
   "source": [
    "simplify(inv(GeometricAlgebra.make_symbolic(Multivector{Cl\"++0\", 0:3 ,Vector{Float64}}, :kv)))"
   ]
  },
  {
   "cell_type": "code",
   "execution_count": 33,
   "id": "3023ee92-e0e6-4e92-870d-b7fe29871a1f",
   "metadata": {},
   "outputs": [
    {
     "data": {
      "text/plain": [
       "8-component Multivector{Cl\"++0\", 0:3, StaticArraysCore.SizedVector{8, Float64, Vector{Float64}}}:\n",
       " -0.166667 \u001b[0m\u001b[1mv1\u001b[22m\n",
       " -0.333333 \u001b[0m\u001b[1mv12\u001b[22m"
      ]
     },
     "execution_count": 33,
     "metadata": {},
     "output_type": "execute_result"
    }
   ],
   "source": [
    "GeometricAlgebra.inv(x)"
   ]
  },
  {
   "cell_type": "code",
   "execution_count": 30,
   "id": "ed351add-63e0-4546-a49b-c24e33797f05",
   "metadata": {},
   "outputs": [
    {
     "data": {
      "text/plain": [
       "8-component Multivector{Cl\"++0\", 0:3, MVector{8, Float64}}:\n",
       " 0.722222 \u001b[0m\u001b[1mv1\u001b[22m\n",
       " -0.777778 \u001b[0m\u001b[1mv12\u001b[22m"
      ]
     },
     "execution_count": 30,
     "metadata": {},
     "output_type": "execute_result"
    }
   ],
   "source": [
    "b2inv = GeometricAlgebra.reversion(x) / (GeometricAlgebra.reversion(x) * x)"
   ]
  },
  {
   "cell_type": "code",
   "execution_count": 35,
   "id": "a4dffbcf-e678-49a0-9e77-3ad3fc49a872",
   "metadata": {},
   "outputs": [
    {
     "data": {
      "text/plain": [
       "8-component Multivector{Cl\"++0\", 0:3, MVector{8, Float64}}:\n",
       " 1.0"
      ]
     },
     "execution_count": 35,
     "metadata": {},
     "output_type": "execute_result"
    }
   ],
   "source": [
    "x * inv(x)"
   ]
  },
  {
   "cell_type": "code",
   "execution_count": 4,
   "id": "987efa13-fcaf-419e-8472-2f387818b510",
   "metadata": {},
   "outputs": [],
   "source": [
    "f = zeros(Int64, 8, 8, 8)\n",
    "blades = Array{Any}(undef, 8)\n",
    "for i = 0:7\n",
    "    blades[i+1] = BasisBlade{(1,1,0)}(1, UInt64(i))\n",
    "end\n",
    "for i = 1:8\n",
    "    for j = 1:8\n",
    "            f[i, j, (blades[i]*blades[j]).bits + 1] = (blades[i]*blades[j]).coeff\n",
    "    end\n",
    "end"
   ]
  },
  {
   "cell_type": "code",
   "execution_count": 47,
   "id": "809193e8-04a8-4bae-85ca-31e59656d6fb",
   "metadata": {},
   "outputs": [
    {
     "data": {
      "text/plain": [
       "8-element Vector{Int64}:\n",
       " 1\n",
       " 0\n",
       " 0\n",
       " 0\n",
       " 0\n",
       " 0\n",
       " 0\n",
       " 0"
      ]
     },
     "execution_count": 47,
     "metadata": {},
     "output_type": "execute_result"
    }
   ],
   "source": [
    "f[1, 1, :]"
   ]
  },
  {
   "cell_type": "code",
   "execution_count": 6,
   "id": "732a1778-bbfb-4da5-810f-72d74b49b6af",
   "metadata": {},
   "outputs": [
    {
     "data": {
      "text/plain": [
       "8-element Vector{Vector{Int64}}:\n",
       " []\n",
       " [1]\n",
       " [2]\n",
       " [1, 2]\n",
       " [3]\n",
       " [1, 3]\n",
       " [2, 3]\n",
       " [1, 2, 3]"
      ]
     },
     "execution_count": 6,
     "metadata": {},
     "output_type": "execute_result"
    }
   ],
   "source": [
    "blade_indices = map(i -> bits_to_indices(blades[i].bits), 1:8)"
   ]
  },
  {
   "cell_type": "code",
   "execution_count": 7,
   "id": "6c5e88b2-20c2-4ad8-bd26-b211cc2552e1",
   "metadata": {},
   "outputs": [],
   "source": [
    "npzwrite(\"clifford_110_structure.npz\", f)"
   ]
  },
  {
   "cell_type": "code",
   "execution_count": 11,
   "id": "a5990b2b-0ef3-49e7-a7f7-56ca002688e9",
   "metadata": {},
   "outputs": [
    {
     "data": {
      "text/plain": [
       "42"
      ]
     },
     "execution_count": 11,
     "metadata": {},
     "output_type": "execute_result"
    }
   ],
   "source": [
    "json_data = JSON.json(blade_indices)\n",
    "open(\"clifford_110_blades.json\", \"w\") do f\n",
    "    write(f, json_data)\n",
    "end"
   ]
  },
  {
   "cell_type": "code",
   "execution_count": null,
   "id": "13d1346a-8625-4114-b272-4a29b4939846",
   "metadata": {},
   "outputs": [],
   "source": []
  }
 ],
 "metadata": {
  "kernelspec": {
   "display_name": "Julia 1.9.3",
   "language": "julia",
   "name": "julia-1.9"
  },
  "language_info": {
   "file_extension": ".jl",
   "mimetype": "application/julia",
   "name": "julia",
   "version": "1.9.3"
  }
 },
 "nbformat": 4,
 "nbformat_minor": 5
}
